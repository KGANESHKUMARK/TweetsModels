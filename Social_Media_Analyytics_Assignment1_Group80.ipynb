{
  "nbformat": 4,
  "nbformat_minor": 0,
  "metadata": {
    "colab": {
      "provenance": []
    },
    "kernelspec": {
      "name": "python3",
      "display_name": "Python 3"
    },
    "language_info": {
      "name": "python"
    }
  },
  "cells": [
    {
      "cell_type": "markdown",
      "source": [
        "##                                           Social Media Analytics Assignment 1\n",
        "\n",
        "##                                                       Group 80\n",
        "\n",
        "##                                               Twitter Sentiment Analysis"
      ],
      "metadata": {
        "id": "26wfWl80-X11"
      }
    },
    {
      "cell_type": "markdown",
      "source": [],
      "metadata": {
        "id": "QhZTQciQ-2nZ"
      }
    },
    {
      "cell_type": "code",
      "source": [
        "\n",
        "### Group Members Name with Student ID:#\n",
        "from IPython.display import display, HTML\n",
        "html_content = \"\"\"\n",
        "\n",
        "<!DOCTYPE html>\n",
        "<html lang=\"en\">\n",
        "<head>\n",
        "    <meta charset=\"UTF-8\">\n",
        "    <meta name=\"viewport\" content=\"width=device-width, initial-scale=1.0\">\n",
        "\n",
        "    <style>\n",
        "        .table {\n",
        "            display: table;\n",
        "            width: 70%;\n",
        "            border-collapse: collapse;\n",
        "        }\n",
        "        .table-row {\n",
        "            display: table-row;\n",
        "        }\n",
        "        .table-cell {\n",
        "            display: table-cell;\n",
        "            border: 1px solid #dddddd;\n",
        "            padding: 8px;\n",
        "        }\n",
        "        .header {\n",
        "            background-color: #fffff;\n",
        "            font-weight: bold;\n",
        "            font-size: 100%;\n",
        "        }\n",
        "    </style>\n",
        "</head>\n",
        "<body>\n",
        " <h3>Group Members Name with Student ID:</h3>\n",
        "\n",
        "<div class=\"table\" style=\"float: left\">\n",
        "\n",
        "    <div class=\"table-row header\">\n",
        "        <div class=\"table-cell\">BITS ID</div>\n",
        "        <div class=\"table-cell\">Name</div>\n",
        "        <div class=\"table-cell\">BITS ID</div>\n",
        "        <div class=\"table-cell\">Email ID</div>\n",
        "        <div class=\"table-cell\">Contribution</div>\n",
        "    </div>\n",
        "    <div class=\"table-row\">\n",
        "        <div class=\"table-cell\">1.</div>\n",
        "        <div class=\"table-cell\">Beesetti Hema Shiridi Sai Kumari</div>\n",
        "        <div class=\"table-cell\">2023AA05794</div>\n",
        "        <div class=\"table-cell\">2023AA05794@wilp.bits-pilani.ac.in</div>\n",
        "        <div class=\"table-cell\">100%</div>\n",
        "    </div>\n",
        "    <div class=\"table-row\">\n",
        "        <div class=\"table-cell\">2.</div>\n",
        "        <div class=\"table-cell\">GANESHKUMAR KARUPPAIAH</div>\n",
        "        <div class=\"table-cell\">2023aa05600</div>\n",
        "        <div class=\"table-cell\">2023aa05600@wilp.bits-pilani.ac.in</div>\n",
        "        <div class=\"table-cell\">100%</div>\n",
        "    </div>\n",
        "    <div class=\"table-row\">\n",
        "    <div class=\"table-cell\">3.</div>\n",
        "        <div class=\"table-cell\">KOLLURI VENKATESWARA SWAROOP</div>\n",
        "        <div class=\"table-cell\">2023aa05945</div>\n",
        "        <div class=\"table-cell\">2023aa05945@wilp.bits-pilani.ac.in</div>\n",
        "        <div class=\"table-cell\">100%</div>\n",
        "    </div>\n",
        "    <div class=\"table-row\">\n",
        "    <div class=\"table-cell\">4.</div>\n",
        "        <div class=\"table-cell\">RAJESH J</div>\n",
        "        <div class=\"table-cell\">2023aa05859</div>\n",
        "        <div class=\"table-cell\">2023aa05859@wilp.bits-pilani.ac.in</div>\n",
        "        <div class=\"table-cell\">100%</div>\n",
        "    </div>\n",
        "    <div class=\"table-row\">\n",
        "    <div class=\"table-cell\">5.</div>\n",
        "        <div class=\"table-cell\">VIJAYA LAKSHMI R</div>\n",
        "        <div class=\"table-cell\">2023aa05341</div>\n",
        "        <div class=\"table-cell\">2023aa05341@wilp.bits-pilani.ac.in</div>\n",
        "        <div class=\"table-cell\">100%</div>\n",
        "    </div>\n",
        "</div>\n",
        "</html>\n",
        "\"\"\"\n",
        "display(HTML(html_content))"
      ],
      "metadata": {
        "colab": {
          "base_uri": "https://localhost:8080/",
          "height": 369
        },
        "id": "Sg4628k3-5rs",
        "outputId": "51ff96b9-39d2-4bdc-a48e-e43d65d69ff9"
      },
      "execution_count": null,
      "outputs": [
        {
          "output_type": "display_data",
          "data": {
            "text/plain": [
              "<IPython.core.display.HTML object>"
            ],
            "text/html": [
              "\n",
              "\n",
              "<!DOCTYPE html>\n",
              "<html lang=\"en\">\n",
              "<head>\n",
              "    <meta charset=\"UTF-8\">\n",
              "    <meta name=\"viewport\" content=\"width=device-width, initial-scale=1.0\">\n",
              "\n",
              "    <style>\n",
              "        .table {\n",
              "            display: table;\n",
              "            width: 70%;\n",
              "            border-collapse: collapse;\n",
              "        }\n",
              "        .table-row {\n",
              "            display: table-row;\n",
              "        }\n",
              "        .table-cell {\n",
              "            display: table-cell;\n",
              "            border: 1px solid #dddddd;\n",
              "            padding: 8px;\n",
              "        }\n",
              "        .header {\n",
              "            background-color: #fffff;\n",
              "            font-weight: bold;\n",
              "            font-size: 100%;\n",
              "        }\n",
              "    </style>\n",
              "</head>\n",
              "<body>\n",
              " <h3>Group Members Name with Student ID:</h3>\n",
              "\n",
              "<div class=\"table\" style=\"float: left\">\n",
              "\t\t\n",
              "    <div class=\"table-row header\">\n",
              "        <div class=\"table-cell\">BITS ID</div>\n",
              "        <div class=\"table-cell\">Name</div>\n",
              "        <div class=\"table-cell\">BITS ID</div>\n",
              "        <div class=\"table-cell\">Email ID</div>\n",
              "        <div class=\"table-cell\">Contribution</div>\n",
              "    </div>\n",
              "    <div class=\"table-row\">\n",
              "        <div class=\"table-cell\">1.</div>\n",
              "        <div class=\"table-cell\">Beesetti Hema Shiridi Sai Kumari</div>\n",
              "        <div class=\"table-cell\">2023AA05794</div>\n",
              "        <div class=\"table-cell\">2023AA05794@wilp.bits-pilani.ac.in</div>\n",
              "        <div class=\"table-cell\">100%</div>\n",
              "    </div>\n",
              "    <div class=\"table-row\">\n",
              "        <div class=\"table-cell\">2.</div>\n",
              "        <div class=\"table-cell\">GANESHKUMAR KARUPPAIAH</div>\n",
              "        <div class=\"table-cell\">2023aa05600</div>\n",
              "        <div class=\"table-cell\">2023aa05600@wilp.bits-pilani.ac.in</div>\n",
              "        <div class=\"table-cell\">100%</div>\n",
              "    </div>\n",
              "    <div class=\"table-row\">\n",
              "    <div class=\"table-cell\">3.</div>\n",
              "        <div class=\"table-cell\">KOLLURI VENKATESWARA SWAROOP</div>\n",
              "        <div class=\"table-cell\">2023aa05945</div>\n",
              "        <div class=\"table-cell\">2023aa05945@wilp.bits-pilani.ac.in</div>\n",
              "        <div class=\"table-cell\">100%</div>\n",
              "    </div>\n",
              "    <div class=\"table-row\">\n",
              "    <div class=\"table-cell\">4.</div>\n",
              "        <div class=\"table-cell\">RAJESH J</div>\n",
              "        <div class=\"table-cell\">2023aa05859</div>\n",
              "        <div class=\"table-cell\">2023aa05859@wilp.bits-pilani.ac.in</div>\n",
              "        <div class=\"table-cell\">100%</div>\n",
              "    </div>\n",
              "    <div class=\"table-row\">\n",
              "    <div class=\"table-cell\">5.</div>\n",
              "        <div class=\"table-cell\">VIJAYA LAKSHMI R</div>\n",
              "        <div class=\"table-cell\">2023aa05341</div>\n",
              "        <div class=\"table-cell\">2023aa05341@wilp.bits-pilani.ac.in</div>\n",
              "        <div class=\"table-cell\">100%</div>\n",
              "    </div>\n",
              "</div>\n",
              "</html>\n"
            ]
          },
          "metadata": {}
        }
      ]
    },
    {
      "cell_type": "markdown",
      "source": [
        "## Problem Statement:\n",
        "\n",
        "Perform sentiment analysis on a dataset of Twitter tweets. The dataset includes tweets, user information, and corresponding sentiment labels (positive, negative, or neutral). The objective is to analyze the sentiments expressed in tweets, develop a sentiment classifier, and gain insights into public opinions on Twitter. Use one Dataset from files for this exercise."
      ],
      "metadata": {
        "id": "-vX5w5MkAxXC"
      }
    },
    {
      "cell_type": "markdown",
      "source": [
        "TASK 1\n",
        "\n",
        "## Data Preparation (2 Marks):\n",
        "    \n",
        "    - Load the Twitter dataset, including tweets and corresponding sentiment labels.\n",
        "\n",
        "    - Preprocess the text data, including tasks such as tokenization, lowercasing, and removal of stop words and special characters."
      ],
      "metadata": {
        "id": "xVfxlMImA0B_"
      }
    },
    {
      "cell_type": "code",
      "source": [
        "import pandas as pd\n",
        "\n",
        "# Load the training and testing datasets\n",
        "train_data = pd.read_csv('train.csv')\n",
        "test_data = pd.read_csv('test.csv')\n",
        "\n",
        "# Display the first few rows of the dataset\n",
        "print(train_data.head())\n",
        "print(test_data.head())\n"
      ],
      "metadata": {
        "colab": {
          "base_uri": "https://localhost:8080/"
        },
        "id": "_1nDyGBPAlDI",
        "outputId": "84cee965-1130-4ae3-a67b-cdd48e1b7efc"
      },
      "execution_count": null,
      "outputs": [
        {
          "output_type": "stream",
          "name": "stdout",
          "text": [
            "   id  label                                              tweet\n",
            "0   1      0   @user when a father is dysfunctional and is s...\n",
            "1   2      0  @user @user thanks for #lyft credit i can't us...\n",
            "2   3      0                                bihday your majesty\n",
            "3   4      0  #model   i love u take with u all the time in ...\n",
            "4   5      0             factsguide: society now    #motivation\n",
            "      id                                              tweet\n",
            "0  31963  #studiolife #aislife #requires #passion #dedic...\n",
            "1  31964   @user #white #supremacists want everyone to s...\n",
            "2  31965  safe ways to heal your #acne!!    #altwaystohe...\n",
            "3  31966  is the hp and the cursed child book up for res...\n",
            "4  31967    3rd #bihday to my amazing, hilarious #nephew...\n"
          ]
        }
      ]
    },
    {
      "cell_type": "code",
      "source": [
        "import re\n",
        "\n",
        "def preprocess_with_regex(text):\n",
        "    text = text.lower()\n",
        "    text = re.sub(r'http\\S+|www\\S+|https\\S+', '', text)  # Remove URLs\n",
        "    text = re.sub(r'@\\w+|\\#', '', text)  # Remove mentions and hashtags\n",
        "    text = re.sub(r'[^a-z\\s]', '', text)  # Remove special characters\n",
        "    tokens = text.split()  # Tokenize\n",
        "    return ' '.join(tokens)\n",
        "\n",
        "# Apply to the train dataset\n",
        "train_data['cleaned_text'] = train_data['tweet'].apply(preprocess_with_regex)\n",
        "train_data[['tweet', 'cleaned_text']].head()\n",
        "\n",
        "# Apply to the test dataset\n",
        "test_data['cleaned_text'] = test_data['tweet'].apply(preprocess_with_regex)\n",
        "test_data[['tweet', 'cleaned_text']].head()\n"
      ],
      "metadata": {
        "colab": {
          "base_uri": "https://localhost:8080/",
          "height": 206
        },
        "id": "n69Jezq5AlTa",
        "outputId": "068bef15-480c-4f51-ca87-0491bee49270"
      },
      "execution_count": null,
      "outputs": [
        {
          "output_type": "execute_result",
          "data": {
            "text/plain": [
              "                                               tweet  \\\n",
              "0  #studiolife #aislife #requires #passion #dedic...   \n",
              "1   @user #white #supremacists want everyone to s...   \n",
              "2  safe ways to heal your #acne!!    #altwaystohe...   \n",
              "3  is the hp and the cursed child book up for res...   \n",
              "4    3rd #bihday to my amazing, hilarious #nephew...   \n",
              "\n",
              "                                        cleaned_text  \n",
              "0  studiolife aislife requires passion dedication...  \n",
              "1  white supremacists want everyone to see the ne...  \n",
              "2  safe ways to heal your acne altwaystoheal heal...  \n",
              "3  is the hp and the cursed child book up for res...  \n",
              "4  rd bihday to my amazing hilarious nephew eli a...  "
            ],
            "text/html": [
              "\n",
              "  <div id=\"df-8bd1e935-b05e-45e6-a259-7aea746c4199\" class=\"colab-df-container\">\n",
              "    <div>\n",
              "<style scoped>\n",
              "    .dataframe tbody tr th:only-of-type {\n",
              "        vertical-align: middle;\n",
              "    }\n",
              "\n",
              "    .dataframe tbody tr th {\n",
              "        vertical-align: top;\n",
              "    }\n",
              "\n",
              "    .dataframe thead th {\n",
              "        text-align: right;\n",
              "    }\n",
              "</style>\n",
              "<table border=\"1\" class=\"dataframe\">\n",
              "  <thead>\n",
              "    <tr style=\"text-align: right;\">\n",
              "      <th></th>\n",
              "      <th>tweet</th>\n",
              "      <th>cleaned_text</th>\n",
              "    </tr>\n",
              "  </thead>\n",
              "  <tbody>\n",
              "    <tr>\n",
              "      <th>0</th>\n",
              "      <td>#studiolife #aislife #requires #passion #dedic...</td>\n",
              "      <td>studiolife aislife requires passion dedication...</td>\n",
              "    </tr>\n",
              "    <tr>\n",
              "      <th>1</th>\n",
              "      <td>@user #white #supremacists want everyone to s...</td>\n",
              "      <td>white supremacists want everyone to see the ne...</td>\n",
              "    </tr>\n",
              "    <tr>\n",
              "      <th>2</th>\n",
              "      <td>safe ways to heal your #acne!!    #altwaystohe...</td>\n",
              "      <td>safe ways to heal your acne altwaystoheal heal...</td>\n",
              "    </tr>\n",
              "    <tr>\n",
              "      <th>3</th>\n",
              "      <td>is the hp and the cursed child book up for res...</td>\n",
              "      <td>is the hp and the cursed child book up for res...</td>\n",
              "    </tr>\n",
              "    <tr>\n",
              "      <th>4</th>\n",
              "      <td>3rd #bihday to my amazing, hilarious #nephew...</td>\n",
              "      <td>rd bihday to my amazing hilarious nephew eli a...</td>\n",
              "    </tr>\n",
              "  </tbody>\n",
              "</table>\n",
              "</div>\n",
              "    <div class=\"colab-df-buttons\">\n",
              "\n",
              "  <div class=\"colab-df-container\">\n",
              "    <button class=\"colab-df-convert\" onclick=\"convertToInteractive('df-8bd1e935-b05e-45e6-a259-7aea746c4199')\"\n",
              "            title=\"Convert this dataframe to an interactive table.\"\n",
              "            style=\"display:none;\">\n",
              "\n",
              "  <svg xmlns=\"http://www.w3.org/2000/svg\" height=\"24px\" viewBox=\"0 -960 960 960\">\n",
              "    <path d=\"M120-120v-720h720v720H120Zm60-500h600v-160H180v160Zm220 220h160v-160H400v160Zm0 220h160v-160H400v160ZM180-400h160v-160H180v160Zm440 0h160v-160H620v160ZM180-180h160v-160H180v160Zm440 0h160v-160H620v160Z\"/>\n",
              "  </svg>\n",
              "    </button>\n",
              "\n",
              "  <style>\n",
              "    .colab-df-container {\n",
              "      display:flex;\n",
              "      gap: 12px;\n",
              "    }\n",
              "\n",
              "    .colab-df-convert {\n",
              "      background-color: #E8F0FE;\n",
              "      border: none;\n",
              "      border-radius: 50%;\n",
              "      cursor: pointer;\n",
              "      display: none;\n",
              "      fill: #1967D2;\n",
              "      height: 32px;\n",
              "      padding: 0 0 0 0;\n",
              "      width: 32px;\n",
              "    }\n",
              "\n",
              "    .colab-df-convert:hover {\n",
              "      background-color: #E2EBFA;\n",
              "      box-shadow: 0px 1px 2px rgba(60, 64, 67, 0.3), 0px 1px 3px 1px rgba(60, 64, 67, 0.15);\n",
              "      fill: #174EA6;\n",
              "    }\n",
              "\n",
              "    .colab-df-buttons div {\n",
              "      margin-bottom: 4px;\n",
              "    }\n",
              "\n",
              "    [theme=dark] .colab-df-convert {\n",
              "      background-color: #3B4455;\n",
              "      fill: #D2E3FC;\n",
              "    }\n",
              "\n",
              "    [theme=dark] .colab-df-convert:hover {\n",
              "      background-color: #434B5C;\n",
              "      box-shadow: 0px 1px 3px 1px rgba(0, 0, 0, 0.15);\n",
              "      filter: drop-shadow(0px 1px 2px rgba(0, 0, 0, 0.3));\n",
              "      fill: #FFFFFF;\n",
              "    }\n",
              "  </style>\n",
              "\n",
              "    <script>\n",
              "      const buttonEl =\n",
              "        document.querySelector('#df-8bd1e935-b05e-45e6-a259-7aea746c4199 button.colab-df-convert');\n",
              "      buttonEl.style.display =\n",
              "        google.colab.kernel.accessAllowed ? 'block' : 'none';\n",
              "\n",
              "      async function convertToInteractive(key) {\n",
              "        const element = document.querySelector('#df-8bd1e935-b05e-45e6-a259-7aea746c4199');\n",
              "        const dataTable =\n",
              "          await google.colab.kernel.invokeFunction('convertToInteractive',\n",
              "                                                    [key], {});\n",
              "        if (!dataTable) return;\n",
              "\n",
              "        const docLinkHtml = 'Like what you see? Visit the ' +\n",
              "          '<a target=\"_blank\" href=https://colab.research.google.com/notebooks/data_table.ipynb>data table notebook</a>'\n",
              "          + ' to learn more about interactive tables.';\n",
              "        element.innerHTML = '';\n",
              "        dataTable['output_type'] = 'display_data';\n",
              "        await google.colab.output.renderOutput(dataTable, element);\n",
              "        const docLink = document.createElement('div');\n",
              "        docLink.innerHTML = docLinkHtml;\n",
              "        element.appendChild(docLink);\n",
              "      }\n",
              "    </script>\n",
              "  </div>\n",
              "\n",
              "\n",
              "<div id=\"df-22be0dfa-3851-4bd9-b344-0a4b8530a5a2\">\n",
              "  <button class=\"colab-df-quickchart\" onclick=\"quickchart('df-22be0dfa-3851-4bd9-b344-0a4b8530a5a2')\"\n",
              "            title=\"Suggest charts\"\n",
              "            style=\"display:none;\">\n",
              "\n",
              "<svg xmlns=\"http://www.w3.org/2000/svg\" height=\"24px\"viewBox=\"0 0 24 24\"\n",
              "     width=\"24px\">\n",
              "    <g>\n",
              "        <path d=\"M19 3H5c-1.1 0-2 .9-2 2v14c0 1.1.9 2 2 2h14c1.1 0 2-.9 2-2V5c0-1.1-.9-2-2-2zM9 17H7v-7h2v7zm4 0h-2V7h2v10zm4 0h-2v-4h2v4z\"/>\n",
              "    </g>\n",
              "</svg>\n",
              "  </button>\n",
              "\n",
              "<style>\n",
              "  .colab-df-quickchart {\n",
              "      --bg-color: #E8F0FE;\n",
              "      --fill-color: #1967D2;\n",
              "      --hover-bg-color: #E2EBFA;\n",
              "      --hover-fill-color: #174EA6;\n",
              "      --disabled-fill-color: #AAA;\n",
              "      --disabled-bg-color: #DDD;\n",
              "  }\n",
              "\n",
              "  [theme=dark] .colab-df-quickchart {\n",
              "      --bg-color: #3B4455;\n",
              "      --fill-color: #D2E3FC;\n",
              "      --hover-bg-color: #434B5C;\n",
              "      --hover-fill-color: #FFFFFF;\n",
              "      --disabled-bg-color: #3B4455;\n",
              "      --disabled-fill-color: #666;\n",
              "  }\n",
              "\n",
              "  .colab-df-quickchart {\n",
              "    background-color: var(--bg-color);\n",
              "    border: none;\n",
              "    border-radius: 50%;\n",
              "    cursor: pointer;\n",
              "    display: none;\n",
              "    fill: var(--fill-color);\n",
              "    height: 32px;\n",
              "    padding: 0;\n",
              "    width: 32px;\n",
              "  }\n",
              "\n",
              "  .colab-df-quickchart:hover {\n",
              "    background-color: var(--hover-bg-color);\n",
              "    box-shadow: 0 1px 2px rgba(60, 64, 67, 0.3), 0 1px 3px 1px rgba(60, 64, 67, 0.15);\n",
              "    fill: var(--button-hover-fill-color);\n",
              "  }\n",
              "\n",
              "  .colab-df-quickchart-complete:disabled,\n",
              "  .colab-df-quickchart-complete:disabled:hover {\n",
              "    background-color: var(--disabled-bg-color);\n",
              "    fill: var(--disabled-fill-color);\n",
              "    box-shadow: none;\n",
              "  }\n",
              "\n",
              "  .colab-df-spinner {\n",
              "    border: 2px solid var(--fill-color);\n",
              "    border-color: transparent;\n",
              "    border-bottom-color: var(--fill-color);\n",
              "    animation:\n",
              "      spin 1s steps(1) infinite;\n",
              "  }\n",
              "\n",
              "  @keyframes spin {\n",
              "    0% {\n",
              "      border-color: transparent;\n",
              "      border-bottom-color: var(--fill-color);\n",
              "      border-left-color: var(--fill-color);\n",
              "    }\n",
              "    20% {\n",
              "      border-color: transparent;\n",
              "      border-left-color: var(--fill-color);\n",
              "      border-top-color: var(--fill-color);\n",
              "    }\n",
              "    30% {\n",
              "      border-color: transparent;\n",
              "      border-left-color: var(--fill-color);\n",
              "      border-top-color: var(--fill-color);\n",
              "      border-right-color: var(--fill-color);\n",
              "    }\n",
              "    40% {\n",
              "      border-color: transparent;\n",
              "      border-right-color: var(--fill-color);\n",
              "      border-top-color: var(--fill-color);\n",
              "    }\n",
              "    60% {\n",
              "      border-color: transparent;\n",
              "      border-right-color: var(--fill-color);\n",
              "    }\n",
              "    80% {\n",
              "      border-color: transparent;\n",
              "      border-right-color: var(--fill-color);\n",
              "      border-bottom-color: var(--fill-color);\n",
              "    }\n",
              "    90% {\n",
              "      border-color: transparent;\n",
              "      border-bottom-color: var(--fill-color);\n",
              "    }\n",
              "  }\n",
              "</style>\n",
              "\n",
              "  <script>\n",
              "    async function quickchart(key) {\n",
              "      const quickchartButtonEl =\n",
              "        document.querySelector('#' + key + ' button');\n",
              "      quickchartButtonEl.disabled = true;  // To prevent multiple clicks.\n",
              "      quickchartButtonEl.classList.add('colab-df-spinner');\n",
              "      try {\n",
              "        const charts = await google.colab.kernel.invokeFunction(\n",
              "            'suggestCharts', [key], {});\n",
              "      } catch (error) {\n",
              "        console.error('Error during call to suggestCharts:', error);\n",
              "      }\n",
              "      quickchartButtonEl.classList.remove('colab-df-spinner');\n",
              "      quickchartButtonEl.classList.add('colab-df-quickchart-complete');\n",
              "    }\n",
              "    (() => {\n",
              "      let quickchartButtonEl =\n",
              "        document.querySelector('#df-22be0dfa-3851-4bd9-b344-0a4b8530a5a2 button');\n",
              "      quickchartButtonEl.style.display =\n",
              "        google.colab.kernel.accessAllowed ? 'block' : 'none';\n",
              "    })();\n",
              "  </script>\n",
              "</div>\n",
              "\n",
              "    </div>\n",
              "  </div>\n"
            ],
            "application/vnd.google.colaboratory.intrinsic+json": {
              "type": "dataframe",
              "summary": "{\n  \"name\": \"test_data[['tweet', 'cleaned_text']]\",\n  \"rows\": 5,\n  \"fields\": [\n    {\n      \"column\": \"tweet\",\n      \"properties\": {\n        \"dtype\": \"string\",\n        \"num_unique_values\": 5,\n        \"samples\": [\n          \" @user #white #supremacists want everyone to see the new \\u00e2\\u0080\\u0098  #birds\\u00e2\\u0080\\u0099 #movie \\u00e2\\u0080\\u0094 and here\\u00e2\\u0080\\u0099s why  \",\n          \"  3rd #bihday to my amazing, hilarious #nephew eli ahmir! uncle dave loves you and misses\\u00e2\\u0080\\u00a6 \",\n          \"safe ways to heal your #acne!!    #altwaystoheal #healthy   #healing!! \"\n        ],\n        \"semantic_type\": \"\",\n        \"description\": \"\"\n      }\n    },\n    {\n      \"column\": \"cleaned_text\",\n      \"properties\": {\n        \"dtype\": \"string\",\n        \"num_unique_values\": 5,\n        \"samples\": [\n          \"white supremacists want everyone to see the new birds movie and heres why\",\n          \"rd bihday to my amazing hilarious nephew eli ahmir uncle dave loves you and misses\",\n          \"safe ways to heal your acne altwaystoheal healthy healing\"\n        ],\n        \"semantic_type\": \"\",\n        \"description\": \"\"\n      }\n    }\n  ]\n}"
            }
          },
          "metadata": {},
          "execution_count": 14
        }
      ]
    },
    {
      "cell_type": "markdown",
      "source": [
        "TASK 2\n",
        "\n",
        "## Exploratory Data Analysis (2 Marks):\n",
        "\n",
        "    - Analyze the distribution of sentiment labels in the dataset.\n",
        "\n",
        "    - Explore the most frequent words associated with each sentiment class.\n",
        "\n",
        "    - Visualize sentiment distribution over time (if timestamp information is available)."
      ],
      "metadata": {
        "id": "uhL_5fEnBRJC"
      }
    },
    {
      "cell_type": "code",
      "source": [
        "# Exploratory Data Analysis (EDA)\n",
        "import matplotlib.pyplot as plt\n",
        "import seaborn as sns\n",
        "from collections import Counter\n",
        "from wordcloud import WordCloud\n",
        "\n",
        "# 1. Analyze the distribution of sentiment labels in the dataset\n",
        "plt.figure(figsize=(8, 6))\n",
        "sns.countplot(x='label', data=train_data)\n",
        "plt.title('Distribution of Sentiment Labels')\n",
        "plt.xlabel('Sentiment')\n",
        "plt.ylabel('Count')\n",
        "plt.show()\n"
      ],
      "metadata": {
        "colab": {
          "base_uri": "https://localhost:8080/",
          "height": 564
        },
        "id": "6V2g19Q3AlZH",
        "outputId": "3b66b09c-9eae-4129-8295-13dcb734f608"
      },
      "execution_count": null,
      "outputs": [
        {
          "output_type": "display_data",
          "data": {
            "text/plain": [
              "<Figure size 800x600 with 1 Axes>"
            ],
            "image/png": "[encoded data removed]"
          },
          "metadata": {}
        }
      ]
    },
    {
      "cell_type": "code",
      "source": [
        "\n",
        "# 2. Explore the most frequent words associated with each sentiment class\n",
        "def plot_most_frequent_words(data, label, title):\n",
        "    words = ' '.join(data[data['label'] == label]['cleaned_text']).split()\n",
        "    word_freq = Counter(words)\n",
        "    common_words = word_freq.most_common(20)\n",
        "    df_common_words = pd.DataFrame(common_words, columns=['word', 'count'])\n",
        "\n",
        "    plt.figure(figsize=(10, 6))\n",
        "    sns.barplot(x='count', y='word', data=df_common_words)\n",
        "    plt.title(title)\n",
        "    plt.xlabel('Count')\n",
        "    plt.ylabel('Word')\n",
        "    plt.show()\n",
        "\n",
        "plot_most_frequent_words(train_data, 'positive', 'Most Frequent Words in Positive Tweets')\n",
        "plot_most_frequent_words(train_data, 'negative', 'Most Frequent Words in Negative Tweets')\n",
        "plot_most_frequent_words(train_data, 'neutral', 'Most Frequent Words in Neutral Tweets')\n"
      ],
      "metadata": {
        "colab": {
          "base_uri": "https://localhost:8080/",
          "height": 1000
        },
        "id": "S8kvHzLlVVYw",
        "outputId": "c4868488-32e6-401a-8403-58fa5e013f51"
      },
      "execution_count": null,
      "outputs": [
        {
          "output_type": "display_data",
          "data": {
            "text/plain": [
              "<Figure size 1000x600 with 1 Axes>"
            ],
            "image/png": "[encoded data removed]"
          },
          "metadata": {}
        },
        {
          "output_type": "display_data",
          "data": {
            "text/plain": [
              "<Figure size 1000x600 with 1 Axes>"
            ],
            "image/png": "[encoded data removed]"
          },
          "metadata": {}
        },
        {
          "output_type": "display_data",
          "data": {
            "text/plain": [
              "<Figure size 1000x600 with 1 Axes>"
            ],
            "image/png": "[encoded data removed]"
          },
          "metadata": {}
        }
      ]
    },
    {
      "cell_type": "code",
      "source": [
        "\n",
        "# 3. Visualize sentiment distribution over time (if timestamp information is available)\n",
        "if 'timestamp' in train_data.columns:\n",
        "    train_data['timestamp'] = pd.to_datetime(train_data['timestamp'])\n",
        "    train_data.set_index('timestamp', inplace=True)\n",
        "\n",
        "    plt.figure(figsize=(12, 6))\n",
        "    train_data['label'].resample('M').value_counts().unstack().plot()\n",
        "    plt.title('Sentiment Distribution Over Time')\n",
        "    plt.xlabel('Time')\n",
        "    plt.ylabel('Count')\n",
        "    plt.show()\n",
        "else:\n",
        "    print(\"Timestamp information is not available in the dataset.\")"
      ],
      "metadata": {
        "colab": {
          "base_uri": "https://localhost:8080/"
        },
        "id": "_uor-ihoVWlV",
        "outputId": "4d06b380-9c39-41b7-b110-4f03a1ba66c3"
      },
      "execution_count": null,
      "outputs": [
        {
          "output_type": "stream",
          "name": "stdout",
          "text": [
            "Timestamp information is not available in the dataset.\n"
          ]
        }
      ]
    },
    {
      "cell_type": "markdown",
      "source": [
        "TASK 3\n",
        "## Feature Extraction (2 Marks):\n",
        "\n",
        "    - Utilize appropriate feature extraction techniques such as TF-IDF or word embeddings.\n",
        "\n",
        "    - Split the dataset into training and testing sets."
      ],
      "metadata": {
        "id": "vtpRtB4ABZJM"
      }
    },
    {
      "cell_type": "code",
      "source": [
        "# Feature Extraction\n",
        "import re\n",
        "from sklearn.feature_extraction.text import TfidfVectorizer\n",
        "from sklearn.model_selection import train_test_split\n",
        "\n",
        "# Utilize TF-IDF for feature extraction\n",
        "vectorizer = TfidfVectorizer(max_features=5000)\n",
        "X = vectorizer.fit_transform(train_data['cleaned_text'])\n",
        "\n",
        "# Labels\n",
        "y = train_data['label']\n",
        "\n",
        "# Split the dataset into training and testing sets\n",
        "X_train, X_test, y_train, y_test = train_test_split(X, y, test_size=0.2, random_state=42)\n",
        "\n",
        "print(\"Feature extraction and dataset splitting completed.\")\n",
        "print(f\"Training set size: {X_train.shape}\")\n",
        "print(f\"Testing set size: {X_test.shape}\")"
      ],
      "metadata": {
        "colab": {
          "base_uri": "https://localhost:8080/"
        },
        "id": "udZsgBU9AlfJ",
        "outputId": "534f3735-61aa-4452-ef69-59f5422f328a"
      },
      "execution_count": null,
      "outputs": [
        {
          "output_type": "stream",
          "name": "stdout",
          "text": [
            "Feature extraction and dataset splitting completed.\n",
            "Training set size: (25569, 5000)\n",
            "Testing set size: (6393, 5000)\n"
          ]
        }
      ]
    },
    {
      "cell_type": "markdown",
      "source": [
        "TASK 4\n",
        "## Model Tuning ( 2 Marks)\n",
        "\n",
        "    - Train a machine learning algorithm (e.g., Naive Bayes, Support Vector Machine) or a deep learning model (e.g., LSTM, BERT)."
      ],
      "metadata": {
        "id": "rjCYcOQXBdox"
      }
    },
    {
      "cell_type": "code",
      "source": [
        "# Model Tuning SVM\n",
        "from sklearn.svm import SVC\n",
        "from sklearn.metrics import classification_report, accuracy_score\n",
        "\n",
        "# Train a Support Vector Machine (SVM) classifier\n",
        "svm_model = SVC(kernel='linear', random_state=42)\n",
        "svm_model.fit(X_train, y_train)\n",
        "\n",
        "# Predict on the test set\n",
        "y_pred = svm_model.predict(X_test)\n",
        "\n",
        "# Evaluate the model\n",
        "print(\"Classification Report:\")\n",
        "print(classification_report(y_test, y_pred))\n",
        "\n",
        "print(\"Accuracy Score:\")\n",
        "print(accuracy_score(y_test, y_pred))"
      ],
      "metadata": {
        "colab": {
          "base_uri": "https://localhost:8080/"
        },
        "id": "g0TtNu4iBiKK",
        "outputId": "c5df8f04-ac2b-425b-d909-82e76e38db97"
      },
      "execution_count": null,
      "outputs": [
        {
          "output_type": "stream",
          "name": "stdout",
          "text": [
            "Classification Report:\n",
            "              precision    recall  f1-score   support\n",
            "\n",
            "           0       0.96      0.99      0.98      5937\n",
            "           1       0.86      0.46      0.60       456\n",
            "\n",
            "    accuracy                           0.96      6393\n",
            "   macro avg       0.91      0.73      0.79      6393\n",
            "weighted avg       0.95      0.96      0.95      6393\n",
            "\n",
            "Accuracy Score:\n",
            "0.9562020960425466\n"
          ]
        }
      ]
    },
    {
      "cell_type": "code",
      "source": [
        "# pip install tensorflow"
      ],
      "metadata": {
        "colab": {
          "base_uri": "https://localhost:8080/"
        },
        "id": "CxWVI_m_XDMy",
        "outputId": "a0cb8805-6afe-4695-bb14-889670bbf75c"
      },
      "execution_count": 22,
      "outputs": [
        {
          "output_type": "stream",
          "name": "stdout",
          "text": [
            "Requirement already satisfied: tensorflow in /usr/local/lib/python3.10/dist-packages (2.17.1)\n",
            "Requirement already satisfied: absl-py>=1.0.0 in /usr/local/lib/python3.10/dist-packages (from tensorflow) (1.4.0)\n",
            "Requirement already satisfied: astunparse>=1.6.0 in /usr/local/lib/python3.10/dist-packages (from tensorflow) (1.6.3)\n",
            "Requirement already satisfied: flatbuffers>=24.3.25 in /usr/local/lib/python3.10/dist-packages (from tensorflow) (24.3.25)\n",
            "Requirement already satisfied: gast!=0.5.0,!=0.5.1,!=0.5.2,>=0.2.1 in /usr/local/lib/python3.10/dist-packages (from tensorflow) (0.6.0)\n",
            "Requirement already satisfied: google-pasta>=0.1.1 in /usr/local/lib/python3.10/dist-packages (from tensorflow) (0.2.0)\n",
            "Requirement already satisfied: h5py>=3.10.0 in /usr/local/lib/python3.10/dist-packages (from tensorflow) (3.12.1)\n",
            "Requirement already satisfied: libclang>=13.0.0 in /usr/local/lib/python3.10/dist-packages (from tensorflow) (18.1.1)\n",
            "Requirement already satisfied: ml-dtypes<0.5.0,>=0.3.1 in /usr/local/lib/python3.10/dist-packages (from tensorflow) (0.4.1)\n",
            "Requirement already satisfied: opt-einsum>=2.3.2 in /usr/local/lib/python3.10/dist-packages (from tensorflow) (3.4.0)\n",
            "Requirement already satisfied: packaging in /usr/local/lib/python3.10/dist-packages (from tensorflow) (24.2)\n",
            "Requirement already satisfied: protobuf!=4.21.0,!=4.21.1,!=4.21.2,!=4.21.3,!=4.21.4,!=4.21.5,<5.0.0dev,>=3.20.3 in /usr/local/lib/python3.10/dist-packages (from tensorflow) (4.25.5)\n",
            "Requirement already satisfied: requests<3,>=2.21.0 in /usr/local/lib/python3.10/dist-packages (from tensorflow) (2.32.3)\n",
            "Requirement already satisfied: setuptools in /usr/local/lib/python3.10/dist-packages (from tensorflow) (75.1.0)\n",
            "Requirement already satisfied: six>=1.12.0 in /usr/local/lib/python3.10/dist-packages (from tensorflow) (1.17.0)\n",
            "Requirement already satisfied: termcolor>=1.1.0 in /usr/local/lib/python3.10/dist-packages (from tensorflow) (2.5.0)\n",
            "Requirement already satisfied: typing-extensions>=3.6.6 in /usr/local/lib/python3.10/dist-packages (from tensorflow) (4.12.2)\n",
            "Requirement already satisfied: wrapt>=1.11.0 in /usr/local/lib/python3.10/dist-packages (from tensorflow) (1.17.0)\n",
            "Requirement already satisfied: grpcio<2.0,>=1.24.3 in /usr/local/lib/python3.10/dist-packages (from tensorflow) (1.68.1)\n",
            "Requirement already satisfied: tensorboard<2.18,>=2.17 in /usr/local/lib/python3.10/dist-packages (from tensorflow) (2.17.1)\n",
            "Requirement already satisfied: keras>=3.2.0 in /usr/local/lib/python3.10/dist-packages (from tensorflow) (3.5.0)\n",
            "Requirement already satisfied: tensorflow-io-gcs-filesystem>=0.23.1 in /usr/local/lib/python3.10/dist-packages (from tensorflow) (0.37.1)\n",
            "Requirement already satisfied: numpy<2.0.0,>=1.23.5 in /usr/local/lib/python3.10/dist-packages (from tensorflow) (1.26.4)\n",
            "Requirement already satisfied: wheel<1.0,>=0.23.0 in /usr/local/lib/python3.10/dist-packages (from astunparse>=1.6.0->tensorflow) (0.45.1)\n",
            "Requirement already satisfied: rich in /usr/local/lib/python3.10/dist-packages (from keras>=3.2.0->tensorflow) (13.9.4)\n",
            "Requirement already satisfied: namex in /usr/local/lib/python3.10/dist-packages (from keras>=3.2.0->tensorflow) (0.0.8)\n",
            "Requirement already satisfied: optree in /usr/local/lib/python3.10/dist-packages (from keras>=3.2.0->tensorflow) (0.13.1)\n",
            "Requirement already satisfied: charset-normalizer<4,>=2 in /usr/local/lib/python3.10/dist-packages (from requests<3,>=2.21.0->tensorflow) (3.4.0)\n",
            "Requirement already satisfied: idna<4,>=2.5 in /usr/local/lib/python3.10/dist-packages (from requests<3,>=2.21.0->tensorflow) (3.10)\n",
            "Requirement already satisfied: urllib3<3,>=1.21.1 in /usr/local/lib/python3.10/dist-packages (from requests<3,>=2.21.0->tensorflow) (2.2.3)\n",
            "Requirement already satisfied: certifi>=2017.4.17 in /usr/local/lib/python3.10/dist-packages (from requests<3,>=2.21.0->tensorflow) (2024.12.14)\n",
            "Requirement already satisfied: markdown>=2.6.8 in /usr/local/lib/python3.10/dist-packages (from tensorboard<2.18,>=2.17->tensorflow) (3.7)\n",
            "Requirement already satisfied: tensorboard-data-server<0.8.0,>=0.7.0 in /usr/local/lib/python3.10/dist-packages (from tensorboard<2.18,>=2.17->tensorflow) (0.7.2)\n",
            "Requirement already satisfied: werkzeug>=1.0.1 in /usr/local/lib/python3.10/dist-packages (from tensorboard<2.18,>=2.17->tensorflow) (3.1.3)\n",
            "Requirement already satisfied: MarkupSafe>=2.1.1 in /usr/local/lib/python3.10/dist-packages (from werkzeug>=1.0.1->tensorboard<2.18,>=2.17->tensorflow) (3.0.2)\n",
            "Requirement already satisfied: markdown-it-py>=2.2.0 in /usr/local/lib/python3.10/dist-packages (from rich->keras>=3.2.0->tensorflow) (3.0.0)\n",
            "Requirement already satisfied: pygments<3.0.0,>=2.13.0 in /usr/local/lib/python3.10/dist-packages (from rich->keras>=3.2.0->tensorflow) (2.18.0)\n",
            "Requirement already satisfied: mdurl~=0.1 in /usr/local/lib/python3.10/dist-packages (from markdown-it-py>=2.2.0->rich->keras>=3.2.0->tensorflow) (0.1.2)\n"
          ]
        }
      ]
    },
    {
      "cell_type": "code",
      "source": [
        "# Model Tuning LSTM\n",
        "import numpy as np\n",
        "import tensorflow as tf\n",
        "from tensorflow.keras.preprocessing.text import Tokenizer\n",
        "from tensorflow.keras.preprocessing.sequence import pad_sequences\n",
        "from tensorflow.keras.models import Sequential\n",
        "from tensorflow.keras.layers import Embedding, LSTM, Dense, SpatialDropout1D\n",
        "from tensorflow.keras.utils import to_categorical\n",
        "from sklearn.preprocessing import LabelEncoder\n",
        "\n",
        "\n",
        "# Preprocess the text data for the model\n",
        "tokenizer = Tokenizer(num_words=5000, lower=True)\n",
        "tokenizer.fit_on_texts(train_data['cleaned_text'])\n",
        "X_train = tokenizer.texts_to_sequences(train_data['cleaned_text'])\n",
        "X_test = tokenizer.texts_to_sequences(test_data['cleaned_text'])\n",
        "\n",
        "X_train = pad_sequences(X_train, maxlen=100)\n",
        "X_test = pad_sequences(X_test, maxlen=100)\n",
        "\n",
        "# Encode the labels\n",
        "label_encoder = LabelEncoder()\n",
        "y_train = label_encoder.fit_transform(train_data['label'])\n",
        "y_train = to_categorical(y_train, num_classes=3)\n",
        "\n",
        "# Build the LSTM model\n",
        "model = Sequential()\n",
        "model.add(Embedding(input_dim=5000, output_dim=128, input_length=100))\n",
        "model.add(SpatialDropout1D(0.2))\n",
        "model.add(LSTM(100, dropout=0.2, recurrent_dropout=0.2))\n",
        "model.add(Dense(3, activation='softmax'))\n",
        "\n",
        "model.compile(loss='categorical_crossentropy', optimizer='adam', metrics=['accuracy'])\n",
        "\n",
        "# Train the model\n",
        "history = model.fit(X_train, y_train, epochs=5, batch_size=64, validation_split=0.2, verbose=1)\n",
        "\n",
        "# Predict on the test set\n",
        "y_pred = model.predict(X_test)\n",
        "y_pred_classes = np.argmax(y_pred, axis=1)\n",
        "\n",
        "# Since test_data does not have labels, we cannot evaluate the model on test_data\n",
        "# Instead, we will use a validation set from train_data for evaluation\n",
        "X_train, X_val, y_train, y_val = train_test_split(X_train, y_train, test_size=0.2, random_state=42)\n",
        "model.fit(X_train, y_train, epochs=5, batch_size=64, validation_data=(X_val, y_val), verbose=1)\n",
        "\n",
        "y_val_pred = model.predict(X_val)\n",
        "y_val_pred_classes = np.argmax(y_val_pred, axis=1)\n",
        "y_val_classes = np.argmax(y_val, axis=1)\n",
        "\n",
        "# Evaluate the model\n",
        "print(\"Classification Report:\")\n",
        "# print(classification_report(y_val_classes, y_val_pred_classes, target_names=list(label_encoder.classes_)))\n",
        "print(classification_report(y_val_classes, y_val_pred_classes, target_names=label_encoder.classes_.astype(str)))\n",
        "print(\"Accuracy Score:\")\n",
        "print(accuracy_score(y_val_classes, y_val_pred_classes))"
      ],
      "metadata": {
        "colab": {
          "base_uri": "https://localhost:8080/"
        },
        "id": "RFaglluSVhiA",
        "outputId": "ad8079ec-7b07-41f6-87c2-eb03dd647c7f"
      },
      "execution_count": 24,
      "outputs": [
        {
          "output_type": "stream",
          "name": "stderr",
          "text": [
            "/usr/local/lib/python3.10/dist-packages/keras/src/layers/core/embedding.py:90: UserWarning: Argument `input_length` is deprecated. Just remove it.\n",
            "  warnings.warn(\n"
          ]
        },
        {
          "output_type": "stream",
          "name": "stdout",
          "text": [
            "Epoch 1/5\n",
            "\u001b[1m400/400\u001b[0m \u001b[32m━━━━━━━━━━━━━━━━━━━━\u001b[0m\u001b[37m\u001b[0m \u001b[1m102s\u001b[0m 240ms/step - accuracy: 0.9209 - loss: 0.2984 - val_accuracy: 0.9503 - val_loss: 0.1392\n",
            "Epoch 2/5\n",
            "\u001b[1m400/400\u001b[0m \u001b[32m━━━━━━━━━━━━━━━━━━━━\u001b[0m\u001b[37m\u001b[0m \u001b[1m137s\u001b[0m 228ms/step - accuracy: 0.9618 - loss: 0.1056 - val_accuracy: 0.9557 - val_loss: 0.1297\n",
            "Epoch 3/5\n",
            "\u001b[1m400/400\u001b[0m \u001b[32m━━━━━━━━━━━━━━━━━━━━\u001b[0m\u001b[37m\u001b[0m \u001b[1m142s\u001b[0m 228ms/step - accuracy: 0.9727 - loss: 0.0798 - val_accuracy: 0.9578 - val_loss: 0.1230\n",
            "Epoch 4/5\n",
            "\u001b[1m400/400\u001b[0m \u001b[32m━━━━━━━━━━━━━━━━━━━━\u001b[0m\u001b[37m\u001b[0m \u001b[1m142s\u001b[0m 229ms/step - accuracy: 0.9783 - loss: 0.0636 - val_accuracy: 0.9581 - val_loss: 0.1275\n",
            "Epoch 5/5\n",
            "\u001b[1m400/400\u001b[0m \u001b[32m━━━━━━━━━━━━━━━━━━━━\u001b[0m\u001b[37m\u001b[0m \u001b[1m142s\u001b[0m 228ms/step - accuracy: 0.9848 - loss: 0.0494 - val_accuracy: 0.9579 - val_loss: 0.1377\n",
            "\u001b[1m538/538\u001b[0m \u001b[32m━━━━━━━━━━━━━━━━━━━━\u001b[0m\u001b[37m\u001b[0m \u001b[1m24s\u001b[0m 43ms/step\n",
            "Epoch 1/5\n",
            "\u001b[1m400/400\u001b[0m \u001b[32m━━━━━━━━━━━━━━━━━━━━\u001b[0m\u001b[37m\u001b[0m \u001b[1m95s\u001b[0m 238ms/step - accuracy: 0.9806 - loss: 0.0600 - val_accuracy: 0.9812 - val_loss: 0.0575\n",
            "Epoch 2/5\n",
            "\u001b[1m400/400\u001b[0m \u001b[32m━━━━━━━━━━━━━━━━━━━━\u001b[0m\u001b[37m\u001b[0m \u001b[1m90s\u001b[0m 224ms/step - accuracy: 0.9867 - loss: 0.0406 - val_accuracy: 0.9778 - val_loss: 0.0662\n",
            "Epoch 3/5\n",
            "\u001b[1m400/400\u001b[0m \u001b[32m━━━━━━━━━━━━━━━━━━━━\u001b[0m\u001b[37m\u001b[0m \u001b[1m94s\u001b[0m 236ms/step - accuracy: 0.9877 - loss: 0.0358 - val_accuracy: 0.9731 - val_loss: 0.0744\n",
            "Epoch 4/5\n",
            "\u001b[1m400/400\u001b[0m \u001b[32m━━━━━━━━━━━━━━━━━━━━\u001b[0m\u001b[37m\u001b[0m \u001b[1m143s\u001b[0m 238ms/step - accuracy: 0.9911 - loss: 0.0270 - val_accuracy: 0.9723 - val_loss: 0.0871\n",
            "Epoch 5/5\n",
            "\u001b[1m400/400\u001b[0m \u001b[32m━━━━━━━━━━━━━━━━━━━━\u001b[0m\u001b[37m\u001b[0m \u001b[1m139s\u001b[0m 231ms/step - accuracy: 0.9936 - loss: 0.0191 - val_accuracy: 0.9695 - val_loss: 0.1036\n",
            "\u001b[1m200/200\u001b[0m \u001b[32m━━━━━━━━━━━━━━━━━━━━\u001b[0m\u001b[37m\u001b[0m \u001b[1m7s\u001b[0m 35ms/step\n",
            "Classification Report:\n",
            "              precision    recall  f1-score   support\n",
            "\n",
            "           0       0.98      0.99      0.98      5937\n",
            "           1       0.80      0.77      0.78       456\n",
            "\n",
            "    accuracy                           0.97      6393\n",
            "   macro avg       0.89      0.88      0.88      6393\n",
            "weighted avg       0.97      0.97      0.97      6393\n",
            "\n",
            "Accuracy Score:\n",
            "0.9694978883153449\n"
          ]
        }
      ]
    },
    {
      "cell_type": "markdown",
      "source": [
        "Comments:"
      ],
      "metadata": {
        "id": "nVF8YW0HBieW"
      }
    },
    {
      "cell_type": "markdown",
      "source": [
        "TASK 5\n",
        "## Model Evaluation ( 2 Marks):\n",
        "\n",
        "    - Evaluate the model's performance using accuracy, precision, recall, and F1 score metrics."
      ],
      "metadata": {
        "id": "QKYmY1XZBi2e"
      }
    },
    {
      "cell_type": "markdown",
      "source": [
        "## Report Summary:\n",
        "# Precision:\n",
        "The precision for each class indicates the proportion of true positive predictions among all positive predictions for that class. A precision of 0.98 for class 0 means that 98% of the tweets predicted as class 0 are actually class 0.\n",
        "\n",
        "# Recall:\n",
        "The recall for each class indicates the proportion of true positive predictions among all actual positive instances for that class. A recall of 0.98 for class 0 means that 98% of the actual class 0 tweets are correctly predicted as class 0.\n",
        "\n",
        "# F1-Score:\n",
        "The F1-score is the harmonic mean of precision and recall, providing a single metric that balances both. An F1-score of 0.98 for class 0 indicates a high balance between precision and recall.\n",
        "\n",
        "# Support:\n",
        "The support for each class indicates the number of actual instances of that class in the dataset. There are 5937 instances of class 0 in the dataset.\n",
        "\n",
        "# Weighted Average:\n",
        " The weighted average metrics (precision, recall, and F1-score) take into account the support (number of instances) for each class, providing an overall performance measure for the model. A weighted average F1-score of 0.97 indicates that the model performs well across all classes.\n",
        "\n",
        "# Accuracy Score:\n",
        " The accuracy score of 0.9695 indicates that approximately 96.95% of the predictions made by the model are correct.\n",
        "## Overall,\n",
        "The model demonstrates high performance with precision, recall, and F1-scores close to 1.0, and an accuracy score of 96.95%. This suggests that the model is effective at classifying the sentiment of tweets.\n"
      ],
      "metadata": {
        "id": "y1M0bFYxVrvF"
      }
    }
  ]
}